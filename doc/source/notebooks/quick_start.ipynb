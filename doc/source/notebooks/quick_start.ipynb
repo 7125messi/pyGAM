{
 "cells": [
  {
   "cell_type": "markdown",
   "metadata": {},
   "source": [
    "# Quick Start\n",
    "\n",
    "This quick start will show how to do the following:\n",
    "\n",
    "- `Install` everything needed to use pyGAM.\n",
    "- `fit a model` with custom terms\n",
    "- search for the `best smoothing parameters`\n",
    "- plot `partial dependence` functions\n",
    "\n",
    "\n",
    "## Install pyGAM\n",
    "#### Pip\n",
    "\n",
    "    pip install pygam\n",
    "\n",
    "\n",
    "#### Conda\n",
    "pyGAM is on conda-forge, however this is typically less up-to-date:\n",
    "\n",
    "    conda install -c conda-forge pygam\n",
    "    \n",
    "\n",
    "#### Bleeding edge\n",
    "You can install the bleeding edge from github using `flit`.\n",
    "First clone the repo, ``cd`` into the main directory and do:\n",
    "\n",
    "    pip install flit\n",
    "    flit install"
   ]
  },
  {
   "cell_type": "markdown",
   "metadata": {},
   "source": [
    "### Get `pandas` and `matplotlib`\n",
    "\n",
    "    pip install pandas matplotlib\n",
    "\n"
   ]
  },
  {
   "cell_type": "markdown",
   "metadata": {},
   "source": [
    "## Fit a Model\n",
    "First we need some data"
   ]
  },
  {
   "cell_type": "code",
   "execution_count": 1,
   "metadata": {},
   "outputs": [
    {
     "name": "stderr",
     "output_type": "stream",
     "text": [
      "/home/dswah/miniconda3/envs/pygam36/lib/python3.6/importlib/_bootstrap.py:219: RuntimeWarning: numpy.dtype size changed, may indicate binary incompatibility. Expected 96, got 88\n",
      "  return f(*args, **kwds)\n"
     ]
    }
   ],
   "source": [
    "from pygam.datasets import wage\n",
    "\n",
    "X, y = wage()"
   ]
  },
  {
   "cell_type": "markdown",
   "metadata": {},
   "source": [
    "Now let's import a GAM that's made for regression problems.\n",
    "\n",
    "Let's fit a spline term to the first 2 features, and a factor term to the 3rd feature."
   ]
  },
  {
   "cell_type": "code",
   "execution_count": 2,
   "metadata": {},
   "outputs": [],
   "source": [
    "from pygam import LinearGAM, s, f\n",
    "\n",
    "gam = LinearGAM(s(0) + s(1) + f(2)).fit(X, y)"
   ]
  },
  {
   "cell_type": "markdown",
   "metadata": {},
   "source": [
    "Let's take a look at the model fit:"
   ]
  },
  {
   "cell_type": "code",
   "execution_count": 3,
   "metadata": {},
   "outputs": [
    {
     "name": "stdout",
     "output_type": "stream",
     "text": [
      "LinearGAM                                                                                                 \n",
      "=============================================== ==========================================================\n",
      "Distribution:                        NormalDist Effective DoF:                                     25.1911\n",
      "Link Function:                     IdentityLink Log Likelihood:                                -24118.6847\n",
      "Number of Samples:                         3000 AIC:                                            48289.7516\n",
      "                                                AICc:                                           48290.2307\n",
      "                                                GCV:                                             1255.6902\n",
      "                                                Scale:                                           1236.7251\n",
      "                                                Pseudo R-Squared:                                   0.2955\n",
      "==========================================================================================================\n",
      "Feature Function                  Lambda               Rank         EDoF         P > x        Sig. Code   \n",
      "================================= ==================== ============ ============ ============ ============\n",
      "s(0)                              [0.6]                20           7.1          5.95e-03     **          \n",
      "s(1)                              [0.6]                20           14.1         1.11e-16     ***         \n",
      "f(2)                              [0.6]                5            4.0          1.11e-16     ***         \n",
      "intercept                                              1            0.0          1.11e-16     ***         \n",
      "==========================================================================================================\n",
      "Significance codes:  0 '***' 0.001 '**' 0.01 '*' 0.05 '.' 0.1 ' ' 1\n",
      "\n",
      "WARNING: Fitting splines and a linear function to a feature introduces a model identifiability problem\n",
      "         which can cause p-values to appear significant when they are not.\n",
      "\n",
      "WARNING: p-values calculated in this manner behave correctly for un-penalized models or models with\n",
      "         known smoothing parameters, but when smoothing parameters have been estimated, the p-values\n",
      "         are typically lower than they should be, meaning that the tests reject the null too readily.\n"
     ]
    }
   ],
   "source": [
    "gam.summary()"
   ]
  },
  {
   "cell_type": "markdown",
   "metadata": {},
   "source": [
    "Even though we have 3 terms with a total of `(20 + 20 + 5) = 45` free variables, the default smoothing penalty (`lam=0.6`) reduces the effective degrees of freedom to just ~25."
   ]
  },
  {
   "cell_type": "markdown",
   "metadata": {},
   "source": [
    "## Automatically selecting the best amount of Smoothing"
   ]
  },
  {
   "cell_type": "markdown",
   "metadata": {},
   "source": [
    "The summary reveals that our model has 3 smoothing parameters, currently one per term.\n",
    "\n",
    "Let's perform a grid-search to see if we can improve our model.  \n",
    "We will seek the model with the lowest generalized cross-validation (GCV) score.\n",
    "\n",
    "Our search space is 3-dimensional, so we have to be conservative with the number of points we consider per dimension.\n",
    "\n",
    "Let's try 5 values for each smoothing parameters, resulting in a total of `5*5*5 = 125` points in our grid."
   ]
  },
  {
   "cell_type": "code",
   "execution_count": 4,
   "metadata": {},
   "outputs": [
    {
     "name": "stderr",
     "output_type": "stream",
     "text": [
      "100% (125 of 125) |######################| Elapsed Time: 0:00:08 Time:  0:00:08\n"
     ]
    },
    {
     "name": "stdout",
     "output_type": "stream",
     "text": [
      "LinearGAM                                                                                                 \n",
      "=============================================== ==========================================================\n",
      "Distribution:                        NormalDist Effective DoF:                                     12.1552\n",
      "Link Function:                     IdentityLink Log Likelihood:                                -24119.5707\n",
      "Number of Samples:                         3000 AIC:                                            48265.4518\n",
      "                                                AICc:                                           48265.5765\n",
      "                                                GCV:                                             1246.1735\n",
      "                                                Scale:                                           1237.0883\n",
      "                                                Pseudo R-Squared:                                   0.2922\n",
      "==========================================================================================================\n",
      "Feature Function                  Lambda               Rank         EDoF         P > x        Sig. Code   \n",
      "================================= ==================== ============ ============ ============ ============\n",
      "s(0)                              [1000.]              20           4.9          8.98e-03     **          \n",
      "s(1)                              [1000.]              20           3.3          1.11e-16     ***         \n",
      "f(2)                              [1.]                 5            3.9          1.11e-16     ***         \n",
      "intercept                                              1            0.0          1.11e-16     ***         \n",
      "==========================================================================================================\n",
      "Significance codes:  0 '***' 0.001 '**' 0.01 '*' 0.05 '.' 0.1 ' ' 1\n",
      "\n",
      "WARNING: Fitting splines and a linear function to a feature introduces a model identifiability problem\n",
      "         which can cause p-values to appear significant when they are not.\n",
      "\n",
      "WARNING: p-values calculated in this manner behave correctly for un-penalized models or models with\n",
      "         known smoothing parameters, but when smoothing parameters have been estimated, the p-values\n",
      "         are typically lower than they should be, meaning that the tests reject the null too readily.\n"
     ]
    }
   ],
   "source": [
    "import numpy as np\n",
    "\n",
    "lam = np.logspace(-3, 3, 5)\n",
    "lams = [lam] * 3\n",
    "\n",
    "gam.gridsearch(X, y, lam=lams)\n",
    "gam.summary()"
   ]
  },
  {
   "cell_type": "markdown",
   "metadata": {},
   "source": [
    "This is quite a bit better. Even though the $R^2$ value is lower, we can expect our model to generalize better because the GCV error is lower."
   ]
  },
  {
   "cell_type": "markdown",
   "metadata": {},
   "source": [
    "For high-dimensional search-spaces, it is sometimes a good idea to try a **randomized search**.  \n",
    "We can acheive this by using numpy's `random` module:"
   ]
  },
  {
   "cell_type": "code",
   "execution_count": 5,
   "metadata": {},
   "outputs": [],
   "source": [
    "lams = np.random.rand(100, 3) # random points on [0, 1], with shape (100, 3)\n",
    "lams = lams * 6 - 3 # shift values to -3, 3\n",
    "lams = np.exp(lams) # transforms values to 1e-3, 1e3"
   ]
  },
  {
   "cell_type": "code",
   "execution_count": 6,
   "metadata": {},
   "outputs": [
    {
     "name": "stderr",
     "output_type": "stream",
     "text": [
      "100% (100 of 100) |######################| Elapsed Time: 0:00:06 Time:  0:00:06\n"
     ]
    },
    {
     "name": "stdout",
     "output_type": "stream",
     "text": [
      "LinearGAM                                                                                                 \n",
      "=============================================== ==========================================================\n",
      "Distribution:                        NormalDist Effective DoF:                                     19.2181\n",
      "Link Function:                     IdentityLink Log Likelihood:                                -24115.6855\n",
      "Number of Samples:                         3000 AIC:                                            48271.8073\n",
      "                                                AICc:                                           48272.0953\n",
      "                                                GCV:                                             1249.8918\n",
      "                                                Scale:                                           1235.4877\n",
      "                                                Pseudo R-Squared:                                   0.2948\n",
      "==========================================================================================================\n",
      "Feature Function                  Lambda               Rank         EDoF         P > x        Sig. Code   \n",
      "================================= ==================== ============ ============ ============ ============\n",
      "s(0)                              [15.54]              20           6.9          5.79e-03     **          \n",
      "s(1)                              [17.5316]            20           8.3          1.11e-16     ***         \n",
      "f(2)                              [0.0637]             5            4.0          1.11e-16     ***         \n",
      "intercept                                              1            0.0          1.11e-16     ***         \n",
      "==========================================================================================================\n",
      "Significance codes:  0 '***' 0.001 '**' 0.01 '*' 0.05 '.' 0.1 ' ' 1\n",
      "\n",
      "WARNING: Fitting splines and a linear function to a feature introduces a model identifiability problem\n",
      "         which can cause p-values to appear significant when they are not.\n",
      "\n",
      "WARNING: p-values calculated in this manner behave correctly for un-penalized models or models with\n",
      "         known smoothing parameters, but when smoothing parameters have been estimated, the p-values\n",
      "         are typically lower than they should be, meaning that the tests reject the null too readily.\n"
     ]
    }
   ],
   "source": [
    "random_gam =  LinearGAM(s(0) + s(1) + f(2)).gridsearch(X, y, lam=lams)\n",
    "random_gam.summary()"
   ]
  },
  {
   "cell_type": "markdown",
   "metadata": {},
   "source": [
    "In this case, our deterministic search found a better model:"
   ]
  },
  {
   "cell_type": "code",
   "execution_count": 7,
   "metadata": {},
   "outputs": [
    {
     "data": {
      "text/plain": [
       "True"
      ]
     },
     "execution_count": 7,
     "metadata": {},
     "output_type": "execute_result"
    }
   ],
   "source": [
    "gam.statistics_['GCV'] < random_gam.statistics_['GCV']"
   ]
  },
  {
   "cell_type": "markdown",
   "metadata": {},
   "source": [
    "The `statistics_` attribute is populated after the model has been fitted.\n",
    "There are lots of interesting model statistics to check out, although many are automatically reported in the model summary:"
   ]
  },
  {
   "cell_type": "code",
   "execution_count": 8,
   "metadata": {},
   "outputs": [
    {
     "data": {
      "text/plain": [
       "['n_samples',\n",
       " 'm_features',\n",
       " 'edof_per_coef',\n",
       " 'edof',\n",
       " 'scale',\n",
       " 'cov',\n",
       " 'se',\n",
       " 'AIC',\n",
       " 'AICc',\n",
       " 'pseudo_r2',\n",
       " 'GCV',\n",
       " 'UBRE',\n",
       " 'loglikelihood',\n",
       " 'deviance',\n",
       " 'p_values']"
      ]
     },
     "execution_count": 8,
     "metadata": {},
     "output_type": "execute_result"
    }
   ],
   "source": [
    "list(gam.statistics_.keys())"
   ]
  },
  {
   "cell_type": "markdown",
   "metadata": {},
   "source": [
    "## Partial Dependence Functions"
   ]
  },
  {
   "cell_type": "markdown",
   "metadata": {},
   "source": [
    "One of the most attractive properties of GAMs is that we can decompose and inspect the contribution of each feature to the overall prediction. \n",
    "\n",
    "This is done via **partial dependence** functions.\n",
    "\n",
    "Let's plot the partial dependence for each term in our model, along with a 95% confidence interval for the estimated function."
   ]
  },
  {
   "cell_type": "code",
   "execution_count": 9,
   "metadata": {},
   "outputs": [],
   "source": [
    "import matplotlib.pyplot as plt"
   ]
  },
  {
   "cell_type": "code",
   "execution_count": 10,
   "metadata": {
    "scrolled": false
   },
   "outputs": [
    {
     "data": {
      "image/png": "[encoded data removed]",
      "text/plain": [
       "<Figure size 432x288 with 1 Axes>"
      ]
     },
     "metadata": {},
     "output_type": "display_data"
    },
    {
     "data": {
      "image/png": "[encoded data removed]",
      "text/plain": [
       "<Figure size 432x288 with 1 Axes>"
      ]
     },
     "metadata": {},
     "output_type": "display_data"
    },
    {
     "data": {
      "image/png": "[encoded data removed]",
      "text/plain": [
       "<Figure size 432x288 with 1 Axes>"
      ]
     },
     "metadata": {},
     "output_type": "display_data"
    }
   ],
   "source": [
    "for i, term in enumerate(gam.terms):\n",
    "    if term.isintercept:\n",
    "        continue\n",
    "        \n",
    "    XX = gam.generate_X_grid(term=i)\n",
    "    pdep, confi = gam.partial_dependence(term=i, X=XX, width=0.95)\n",
    "    \n",
    "    plt.figure()\n",
    "    plt.plot(XX[:, term.feature], pdep)\n",
    "    plt.plot(XX[:, term.feature], confi, c='r', ls='--')\n",
    "    plt.title(repr(term))\n",
    "    plt.show()"
   ]
  },
  {
   "cell_type": "markdown",
   "metadata": {},
   "source": [
    "Note: we skip the intercept term because it has nothing interesting to plot."
   ]
  }
 ],
 "metadata": {
  "kernelspec": {
   "display_name": "pygam36",
   "language": "python",
   "name": "pygam36"
  },
  "language_info": {
   "codemirror_mode": {
    "name": "ipython",
    "version": 3
   },
   "file_extension": ".py",
   "mimetype": "text/x-python",
   "name": "python",
   "nbconvert_exporter": "python",
   "pygments_lexer": "ipython3",
   "version": "3.6.6"
  }
 },
 "nbformat": 4,
 "nbformat_minor": 2
}
